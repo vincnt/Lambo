{
 "cells": [
  {
   "cell_type": "code",
   "execution_count": 5,
   "metadata": {},
   "outputs": [],
   "source": [
    "import pandas as pd, numpy as np\n",
    "from matplotlib import pyplot as plt\n",
    "%matplotlib inline\n",
    "import seaborn as sns"
   ]
  },
  {
   "cell_type": "code",
   "execution_count": 6,
   "metadata": {},
   "outputs": [],
   "source": [
    "# make sure I can access datatools\n",
    "import os\n",
    "import sys\n",
    "root_dir = '/Users/cerber/Projects/Lambo/ml/'\n",
    "if root_dir not in sys.path:\n",
    "    sys.path.append(root_dir)"
   ]
  },
  {
   "cell_type": "code",
   "execution_count": 7,
   "metadata": {},
   "outputs": [],
   "source": [
    "coin_frame = pd.read_pickle('./data/coins/ubiq_stationarized.df')\n"
   ]
  },
  {
   "cell_type": "code",
   "execution_count": 8,
   "metadata": {},
   "outputs": [
    {
     "data": {
      "text/plain": [
       "['CMC_ID',\n",
       " 'CC_USD_PRICE',\n",
       " 'CC_ETH_PRICE',\n",
       " 'CC_BTC_PRICE',\n",
       " 'Timestamp',\n",
       " 'USD_PRICE_LN',\n",
       " 'USD_PRICE_LN_DIFF']"
      ]
     },
     "execution_count": 8,
     "metadata": {},
     "output_type": "execute_result"
    }
   ],
   "source": [
    "list(coin_frame)"
   ]
  },
  {
   "cell_type": "code",
   "execution_count": 9,
   "metadata": {},
   "outputs": [
    {
     "name": "stdout",
     "output_type": "stream",
     "text": [
      "0\n",
      "10\n",
      "20\n",
      "30\n",
      "40\n",
      "50\n",
      "60\n",
      "70\n",
      "80\n",
      "90\n",
      "100\n",
      "110\n",
      "120\n",
      "130\n",
      "140\n",
      "150\n"
     ]
    },
    {
     "data": {
      "text/plain": [
       "253"
      ]
     },
     "execution_count": 9,
     "metadata": {},
     "output_type": "execute_result"
    }
   ],
   "source": [
    "\n",
    "base_path = './data/coins/'\n",
    "FEATURES = ['USD_PRICE_LN_DIFF']\n",
    "TARGETS = ['USD_PRICE_LN_DIFF']\n",
    "symbol_column='CMC_ID'\n",
    "\n",
    "na_and_inf = 0\n",
    "\n",
    "for root, dirs, files in os.walk(base_path):\n",
    "    series = [file for file in files if '_stationarized.df' in file]\n",
    "    for i, filename in enumerate(series):\n",
    "        if i % 10 ==0 :print(i)\n",
    "        coin_frame= pd.read_pickle(base_path+filename)\n",
    "        coin_frame.replace([np.inf, -np.inf], np.nan)\n",
    "        coin_frame.dropna(axis=0,how='any')\n",
    "        na_and_inf += coin_frame.isnull().sum().sum()\n",
    "\n",
    "\n",
    "na_and_inf"
   ]
  }
 ],
 "metadata": {
  "kernelspec": {
   "display_name": "Python 3",
   "language": "python",
   "name": "python3"
  },
  "language_info": {
   "codemirror_mode": {
    "name": "ipython",
    "version": 3
   },
   "file_extension": ".py",
   "mimetype": "text/x-python",
   "name": "python",
   "nbconvert_exporter": "python",
   "pygments_lexer": "ipython3",
   "version": "3.6.4"
  }
 },
 "nbformat": 4,
 "nbformat_minor": 2
}
