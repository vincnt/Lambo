{
 "cells": [
  {
   "cell_type": "code",
   "execution_count": 1,
   "metadata": {},
   "outputs": [],
   "source": [
    "import tensorflow as tf, pandas as pd, numpy as np\n",
    "from matplotlib import pyplot as plt\n",
    "%matplotlib inline"
   ]
  },
  {
   "cell_type": "code",
   "execution_count": 2,
   "metadata": {},
   "outputs": [],
   "source": [
    "# make sure I can access datatools\n",
    "import os\n",
    "import sys\n",
    "root_dir = '/Users/cerber/Projects/Lambo/ml/'\n",
    "if root_dir not in sys.path:\n",
    "    sys.path.append(root_dir)"
   ]
  },
  {
   "cell_type": "code",
   "execution_count": 3,
   "metadata": {},
   "outputs": [
    {
     "data": {
      "text/plain": [
       "20"
      ]
     },
     "execution_count": 3,
     "metadata": {},
     "output_type": "execute_result"
    }
   ],
   "source": [
    "from MLDataTools import MLDataSet, MLDataSeries\n",
    "NUM_COINS = 20\n",
    "base_path = './data/coins/'\n",
    "dset = MLDataSet()\n",
    "FEATURES = ['USD_PRICE_LN_DIFF']\n",
    "TARGETS = ['USD_PRICE_LN_DIFF']\n",
    "symbol_column='CMC_ID'\n",
    "for root, dirs, files in os.walk(base_path):\n",
    "    series = [file for file in files if '_stationarized.df' in file]\n",
    "    series = np.random.choice(series, NUM_COINS, False)\n",
    "    for filename in series:\n",
    "        coin_frame = pd.read_pickle(base_path + filename)\n",
    "        coin_frame = coin_frame.replace([np.inf, -np.inf], np.nan)\n",
    "        coin_frame = coin_frame.dropna(axis=0, how='any')\n",
    "        dseries = MLDataSeries(coin_frame, symbol_column=symbol_column, features=FEATURES, targets=TARGETS)\n",
    "        dset.add(dseries)\n",
    "\n",
    "\n",
    "    \n",
    "len(dset)"
   ]
  },
  {
   "cell_type": "code",
   "execution_count": 4,
   "metadata": {},
   "outputs": [
    {
     "name": "stdout",
     "output_type": "stream",
     "text": [
      "LSTM name:  Bradley_Cooper\n"
     ]
    }
   ],
   "source": [
    "from models.LSTM.LSTM import LSTM\n",
    "sess = tf.Session()\n",
    "\n",
    "model = LSTM(\n",
    "    sess=sess,\n",
    "    num_layers=2,\n",
    "    lstm_size=256,\n",
    "    feature_len=len(FEATURES), \n",
    "    targets_shape=len(TARGETS),\n",
    "    num_steps=15,\n",
    "    embed_size=[len(dset), 3]\n",
    ")\n"
   ]
  },
  {
   "cell_type": "code",
   "execution_count": 5,
   "metadata": {},
   "outputs": [
    {
     "name": "stderr",
     "output_type": "stream",
     "text": [
      "/usr/local/Cellar/python3/3.6.4_2/Frameworks/Python.framework/Versions/3.6/lib/python3.6/site-packages/tensorflow/python/ops/gradients_impl.py:97: UserWarning: Converting sparse IndexedSlices to a dense Tensor of unknown shape. This may consume a large amount of memory.\n",
      "  \"Converting sparse IndexedSlices to a dense Tensor of unknown shape. \"\n"
     ]
    }
   ],
   "source": [
    "model.build_graph()"
   ]
  },
  {
   "cell_type": "code",
   "execution_count": null,
   "metadata": {
    "scrolled": false
   },
   "outputs": [
    {
     "name": "stdout",
     "output_type": "stream",
     "text": [
      "Epoch:0 ---- [Learning rate: 0.001000] [test_loss:0.000081] \n",
      "Epoch:1 ---- [Learning rate: 0.001000] [test_loss:0.000126] \n"
     ]
    }
   ],
   "source": [
    "model.train(\n",
    "          dset,\n",
    "          init_learning_rate=0.001,\n",
    "          init_epoch=5,\n",
    "          epochs=15,\n",
    "          learning_rate_decay=0.99,\n",
    "          batch_size=100,\n",
    "          keep_probability=0.7,\n",
    "          train_test_ratio=0.9\n",
    ")"
   ]
  },
  {
   "cell_type": "code",
   "execution_count": null,
   "metadata": {},
   "outputs": [],
   "source": []
  }
 ],
 "metadata": {
  "kernelspec": {
   "display_name": "Python 3",
   "language": "python",
   "name": "python3"
  },
  "language_info": {
   "codemirror_mode": {
    "name": "ipython",
    "version": 3
   },
   "file_extension": ".py",
   "mimetype": "text/x-python",
   "name": "python",
   "nbconvert_exporter": "python",
   "pygments_lexer": "ipython3",
   "version": "3.6.4"
  }
 },
 "nbformat": 4,
 "nbformat_minor": 2
}
