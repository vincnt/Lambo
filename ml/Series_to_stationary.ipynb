{
 "cells": [
  {
   "cell_type": "code",
   "execution_count": 1,
   "metadata": {},
   "outputs": [],
   "source": [
    "import pandas as pd, numpy as np\n",
    "from matplotlib import pyplot as plt\n",
    "%matplotlib inline\n",
    "import seaborn as sns\n",
    "import sklearn.preprocessing as pr\n",
    "# for plotting\n",
    "from pandas.plotting import register_matplotlib_converters\n",
    "register_matplotlib_converters()"
   ]
  },
  {
   "cell_type": "code",
   "execution_count": 2,
   "metadata": {},
   "outputs": [],
   "source": [
    "# make sure I can access datatools\n",
    "import os\n",
    "import sys\n",
    "root_dir = '/Users/cerber/Projects/Lambo/ml/'\n",
    "if root_dir not in sys.path:\n",
    "    sys.path.append(root_dir)"
   ]
  },
  {
   "cell_type": "code",
   "execution_count": 3,
   "metadata": {
    "scrolled": true
   },
   "outputs": [
    {
     "name": "stdout",
     "output_type": "stream",
     "text": [
      "(4876770, 5)\n",
      "['CMC_ID', 'CC_USD_PRICE', 'CC_ETH_PRICE', 'CC_BTC_PRICE', 'Timestamp']\n",
      "['FRST' 'RBIES' 'ASTRO' 'ENG' 'BRAT' 'WILD' 'CND' 'SPACE' 'BWK' 'KARMA'\n",
      " 'RPC' 'SMART' 'REE' 'MYST' 'PIX' 'PSY' 'GBRC' 'CBD' 'LTH' 'HBT']\n",
      "2006\n"
     ]
    }
   ],
   "source": [
    "df = pd.read_pickle('./data/raw_prices.pickle')\n",
    "df = df.sort_values('Timestamp')\n",
    "print(df.shape)\n",
    "print(list(df))\n",
    "unique = df['CMC_ID'].unique()\n",
    "print(unique[:20])\n",
    "print(len(unique))\n"
   ]
  },
  {
   "cell_type": "code",
   "execution_count": null,
   "metadata": {
    "scrolled": true
   },
   "outputs": [],
   "source": [
    "#dataset\n",
    "dataset = {}\n",
    "\n",
    "for i, uval in enumerate(unique):\n",
    "    if i % 100 == 0: print(i)\n",
    "    temp = df[df['CMC_ID'] == uval]\n",
    "    shape = temp.shape\n",
    "    if shape[0] > 20000:\n",
    "        dataset[uval] = temp\n",
    "    \n",
    "\n"
   ]
  },
  {
   "cell_type": "code",
   "execution_count": null,
   "metadata": {},
   "outputs": [],
   "source": [
    "# saving values for future use\n",
    "base_path = './data/coins/'\n",
    "for key, val in dataset.items():\n",
    "    val.to_pickle(base_path+key+'.df')"
   ]
  },
  {
   "cell_type": "code",
   "execution_count": null,
   "metadata": {
    "scrolled": false
   },
   "outputs": [],
   "source": [
    "# all coins with a significant amount of data\n",
    "coin_names = dataset.keys()\n",
    "print(coin_names)\n"
   ]
  },
  {
   "cell_type": "code",
   "execution_count": 5,
   "metadata": {},
   "outputs": [
    {
     "name": "stderr",
     "output_type": "stream",
     "text": [
      "/usr/local/Cellar/python3/3.6.4_2/Frameworks/Python.framework/Versions/3.6/lib/python3.6/site-packages/seaborn/timeseries.py:183: UserWarning: The tsplot function is deprecated and will be removed or replaced (in a substantially altered version) in a future release.\n",
      "  warnings.warn(msg, UserWarning)\n"
     ]
    },
    {
     "data": {
      "text/plain": [
       "<matplotlib.axes._subplots.AxesSubplot at 0x10ca4e160>"
      ]
     },
     "execution_count": 5,
     "metadata": {},
     "output_type": "execute_result"
    },
    {
     "data": {
      "image/png": "[encoded data removed]",
      "text/plain": [
       "<matplotlib.figure.Figure at 0x107440828>"
      ]
     },
     "metadata": {},
     "output_type": "display_data"
    }
   ],
   "source": [
    "# coin_name = 'litecoin'\n",
    "# coin_frame = dataset[coin_name]\n",
    "\n",
    "# first, lets experiment with one coin\n",
    "coin_frame = pd.read_pickle('./data/coins/' + 'litecoin.df')\n",
    "sns.tsplot(data=coin_frame['CC_USD_PRICE'], time=coin_frame['Timestamp'])"
   ]
  },
  {
   "cell_type": "code",
   "execution_count": 6,
   "metadata": {},
   "outputs": [
    {
     "data": {
      "text/html": [
       "<div>\n",
       "<style scoped>\n",
       "    .dataframe tbody tr th:only-of-type {\n",
       "        vertical-align: middle;\n",
       "    }\n",
       "\n",
       "    .dataframe tbody tr th {\n",
       "        vertical-align: top;\n",
       "    }\n",
       "\n",
       "    .dataframe thead th {\n",
       "        text-align: right;\n",
       "    }\n",
       "</style>\n",
       "<table border=\"1\" class=\"dataframe\">\n",
       "  <thead>\n",
       "    <tr style=\"text-align: right;\">\n",
       "      <th></th>\n",
       "      <th>CC_USD_PRICE</th>\n",
       "      <th>CC_ETH_PRICE</th>\n",
       "      <th>CC_BTC_PRICE</th>\n",
       "    </tr>\n",
       "  </thead>\n",
       "  <tbody>\n",
       "    <tr>\n",
       "      <th>count</th>\n",
       "      <td>24980.000000</td>\n",
       "      <td>24980.000000</td>\n",
       "      <td>24980.000000</td>\n",
       "    </tr>\n",
       "    <tr>\n",
       "      <th>mean</th>\n",
       "      <td>158.318460</td>\n",
       "      <td>0.250926</td>\n",
       "      <td>0.018030</td>\n",
       "    </tr>\n",
       "    <tr>\n",
       "      <th>std</th>\n",
       "      <td>32.097737</td>\n",
       "      <td>0.041065</td>\n",
       "      <td>0.001588</td>\n",
       "    </tr>\n",
       "    <tr>\n",
       "      <th>min</th>\n",
       "      <td>104.760000</td>\n",
       "      <td>0.136100</td>\n",
       "      <td>0.013620</td>\n",
       "    </tr>\n",
       "    <tr>\n",
       "      <th>25%</th>\n",
       "      <td>133.587500</td>\n",
       "      <td>0.227200</td>\n",
       "      <td>0.016790</td>\n",
       "    </tr>\n",
       "    <tr>\n",
       "      <th>50%</th>\n",
       "      <td>152.520000</td>\n",
       "      <td>0.250600</td>\n",
       "      <td>0.017940</td>\n",
       "    </tr>\n",
       "    <tr>\n",
       "      <th>75%</th>\n",
       "      <td>174.262500</td>\n",
       "      <td>0.288300</td>\n",
       "      <td>0.018920</td>\n",
       "    </tr>\n",
       "    <tr>\n",
       "      <th>max</th>\n",
       "      <td>252.180000</td>\n",
       "      <td>0.331000</td>\n",
       "      <td>0.024950</td>\n",
       "    </tr>\n",
       "  </tbody>\n",
       "</table>\n",
       "</div>"
      ],
      "text/plain": [
       "       CC_USD_PRICE  CC_ETH_PRICE  CC_BTC_PRICE\n",
       "count  24980.000000  24980.000000  24980.000000\n",
       "mean     158.318460      0.250926      0.018030\n",
       "std       32.097737      0.041065      0.001588\n",
       "min      104.760000      0.136100      0.013620\n",
       "25%      133.587500      0.227200      0.016790\n",
       "50%      152.520000      0.250600      0.017940\n",
       "75%      174.262500      0.288300      0.018920\n",
       "max      252.180000      0.331000      0.024950"
      ]
     },
     "execution_count": 6,
     "metadata": {},
     "output_type": "execute_result"
    }
   ],
   "source": [
    "# Making a time series dataset stationary; meaning the mean and the varience of the dataset have \n",
    "# to be indepndent of time (like 0).\n",
    "coin_frame.describe()"
   ]
  },
  {
   "cell_type": "code",
   "execution_count": 7,
   "metadata": {},
   "outputs": [],
   "source": [
    "# logging helps us to associate multiplicative ideas with addition.\n",
    "# Hence to model geometric growth as linear we would have to take a log of the USD price column\n",
    "\n",
    "coin_frame['USD_PRICE_LN'] = coin_frame['CC_USD_PRICE'].apply(np.log)"
   ]
  },
  {
   "cell_type": "code",
   "execution_count": 8,
   "metadata": {},
   "outputs": [
    {
     "data": {
      "text/html": [
       "<div>\n",
       "<style scoped>\n",
       "    .dataframe tbody tr th:only-of-type {\n",
       "        vertical-align: middle;\n",
       "    }\n",
       "\n",
       "    .dataframe tbody tr th {\n",
       "        vertical-align: top;\n",
       "    }\n",
       "\n",
       "    .dataframe thead th {\n",
       "        text-align: right;\n",
       "    }\n",
       "</style>\n",
       "<table border=\"1\" class=\"dataframe\">\n",
       "  <thead>\n",
       "    <tr style=\"text-align: right;\">\n",
       "      <th></th>\n",
       "      <th>CC_USD_PRICE</th>\n",
       "      <th>CC_ETH_PRICE</th>\n",
       "      <th>CC_BTC_PRICE</th>\n",
       "      <th>USD_PRICE_LN</th>\n",
       "    </tr>\n",
       "  </thead>\n",
       "  <tbody>\n",
       "    <tr>\n",
       "      <th>count</th>\n",
       "      <td>24980.000000</td>\n",
       "      <td>24980.000000</td>\n",
       "      <td>24980.000000</td>\n",
       "      <td>24980.000000</td>\n",
       "    </tr>\n",
       "    <tr>\n",
       "      <th>mean</th>\n",
       "      <td>158.318460</td>\n",
       "      <td>0.250926</td>\n",
       "      <td>0.018030</td>\n",
       "      <td>5.044939</td>\n",
       "    </tr>\n",
       "    <tr>\n",
       "      <th>std</th>\n",
       "      <td>32.097737</td>\n",
       "      <td>0.041065</td>\n",
       "      <td>0.001588</td>\n",
       "      <td>0.196648</td>\n",
       "    </tr>\n",
       "    <tr>\n",
       "      <th>min</th>\n",
       "      <td>104.760000</td>\n",
       "      <td>0.136100</td>\n",
       "      <td>0.013620</td>\n",
       "      <td>4.651672</td>\n",
       "    </tr>\n",
       "    <tr>\n",
       "      <th>25%</th>\n",
       "      <td>133.587500</td>\n",
       "      <td>0.227200</td>\n",
       "      <td>0.016790</td>\n",
       "      <td>4.894757</td>\n",
       "    </tr>\n",
       "    <tr>\n",
       "      <th>50%</th>\n",
       "      <td>152.520000</td>\n",
       "      <td>0.250600</td>\n",
       "      <td>0.017940</td>\n",
       "      <td>5.027296</td>\n",
       "    </tr>\n",
       "    <tr>\n",
       "      <th>75%</th>\n",
       "      <td>174.262500</td>\n",
       "      <td>0.288300</td>\n",
       "      <td>0.018920</td>\n",
       "      <td>5.160563</td>\n",
       "    </tr>\n",
       "    <tr>\n",
       "      <th>max</th>\n",
       "      <td>252.180000</td>\n",
       "      <td>0.331000</td>\n",
       "      <td>0.024950</td>\n",
       "      <td>5.530143</td>\n",
       "    </tr>\n",
       "  </tbody>\n",
       "</table>\n",
       "</div>"
      ],
      "text/plain": [
       "       CC_USD_PRICE  CC_ETH_PRICE  CC_BTC_PRICE  USD_PRICE_LN\n",
       "count  24980.000000  24980.000000  24980.000000  24980.000000\n",
       "mean     158.318460      0.250926      0.018030      5.044939\n",
       "std       32.097737      0.041065      0.001588      0.196648\n",
       "min      104.760000      0.136100      0.013620      4.651672\n",
       "25%      133.587500      0.227200      0.016790      4.894757\n",
       "50%      152.520000      0.250600      0.017940      5.027296\n",
       "75%      174.262500      0.288300      0.018920      5.160563\n",
       "max      252.180000      0.331000      0.024950      5.530143"
      ]
     },
     "execution_count": 8,
     "metadata": {},
     "output_type": "execute_result"
    }
   ],
   "source": [
    "# Now we observe that the standard deviation has nearly reached 0\n",
    "coin_frame.describe()"
   ]
  },
  {
   "cell_type": "code",
   "execution_count": 11,
   "metadata": {},
   "outputs": [],
   "source": [
    "coin_frame['USD_PRICE_LN_DIFF'] = coin_frame.USD_PRICE_LN.diff()"
   ]
  },
  {
   "cell_type": "code",
   "execution_count": 12,
   "metadata": {},
   "outputs": [
    {
     "data": {
      "text/html": [
       "<div>\n",
       "<style scoped>\n",
       "    .dataframe tbody tr th:only-of-type {\n",
       "        vertical-align: middle;\n",
       "    }\n",
       "\n",
       "    .dataframe tbody tr th {\n",
       "        vertical-align: top;\n",
       "    }\n",
       "\n",
       "    .dataframe thead th {\n",
       "        text-align: right;\n",
       "    }\n",
       "</style>\n",
       "<table border=\"1\" class=\"dataframe\">\n",
       "  <thead>\n",
       "    <tr style=\"text-align: right;\">\n",
       "      <th></th>\n",
       "      <th>CC_USD_PRICE</th>\n",
       "      <th>CC_ETH_PRICE</th>\n",
       "      <th>CC_BTC_PRICE</th>\n",
       "      <th>USD_PRICE_LN</th>\n",
       "      <th>USD_PRICE_DIFF</th>\n",
       "    </tr>\n",
       "  </thead>\n",
       "  <tbody>\n",
       "    <tr>\n",
       "      <th>count</th>\n",
       "      <td>24980.000000</td>\n",
       "      <td>24980.000000</td>\n",
       "      <td>24980.000000</td>\n",
       "      <td>24980.000000</td>\n",
       "      <td>24979.000000</td>\n",
       "    </tr>\n",
       "    <tr>\n",
       "      <th>mean</th>\n",
       "      <td>158.318460</td>\n",
       "      <td>0.250926</td>\n",
       "      <td>0.018030</td>\n",
       "      <td>5.044939</td>\n",
       "      <td>0.000017</td>\n",
       "    </tr>\n",
       "    <tr>\n",
       "      <th>std</th>\n",
       "      <td>32.097737</td>\n",
       "      <td>0.041065</td>\n",
       "      <td>0.001588</td>\n",
       "      <td>0.196648</td>\n",
       "      <td>0.004357</td>\n",
       "    </tr>\n",
       "    <tr>\n",
       "      <th>min</th>\n",
       "      <td>104.760000</td>\n",
       "      <td>0.136100</td>\n",
       "      <td>0.013620</td>\n",
       "      <td>4.651672</td>\n",
       "      <td>-0.045340</td>\n",
       "    </tr>\n",
       "    <tr>\n",
       "      <th>25%</th>\n",
       "      <td>133.587500</td>\n",
       "      <td>0.227200</td>\n",
       "      <td>0.016790</td>\n",
       "      <td>4.894757</td>\n",
       "      <td>-0.001509</td>\n",
       "    </tr>\n",
       "    <tr>\n",
       "      <th>50%</th>\n",
       "      <td>152.520000</td>\n",
       "      <td>0.250600</td>\n",
       "      <td>0.017940</td>\n",
       "      <td>5.027296</td>\n",
       "      <td>0.000000</td>\n",
       "    </tr>\n",
       "    <tr>\n",
       "      <th>75%</th>\n",
       "      <td>174.262500</td>\n",
       "      <td>0.288300</td>\n",
       "      <td>0.018920</td>\n",
       "      <td>5.160563</td>\n",
       "      <td>0.001511</td>\n",
       "    </tr>\n",
       "    <tr>\n",
       "      <th>max</th>\n",
       "      <td>252.180000</td>\n",
       "      <td>0.331000</td>\n",
       "      <td>0.024950</td>\n",
       "      <td>5.530143</td>\n",
       "      <td>0.085215</td>\n",
       "    </tr>\n",
       "  </tbody>\n",
       "</table>\n",
       "</div>"
      ],
      "text/plain": [
       "       CC_USD_PRICE  CC_ETH_PRICE  CC_BTC_PRICE  USD_PRICE_LN  USD_PRICE_DIFF\n",
       "count  24980.000000  24980.000000  24980.000000  24980.000000    24979.000000\n",
       "mean     158.318460      0.250926      0.018030      5.044939        0.000017\n",
       "std       32.097737      0.041065      0.001588      0.196648        0.004357\n",
       "min      104.760000      0.136100      0.013620      4.651672       -0.045340\n",
       "25%      133.587500      0.227200      0.016790      4.894757       -0.001509\n",
       "50%      152.520000      0.250600      0.017940      5.027296        0.000000\n",
       "75%      174.262500      0.288300      0.018920      5.160563        0.001511\n",
       "max      252.180000      0.331000      0.024950      5.530143        0.085215"
      ]
     },
     "execution_count": 12,
     "metadata": {},
     "output_type": "execute_result"
    }
   ],
   "source": [
    "coin_frame.describe()"
   ]
  },
  {
   "cell_type": "code",
   "execution_count": 14,
   "metadata": {},
   "outputs": [
    {
     "name": "stderr",
     "output_type": "stream",
     "text": [
      "/usr/local/Cellar/python3/3.6.4_2/Frameworks/Python.framework/Versions/3.6/lib/python3.6/site-packages/seaborn/timeseries.py:183: UserWarning: The tsplot function is deprecated and will be removed or replaced (in a substantially altered version) in a future release.\n",
      "  warnings.warn(msg, UserWarning)\n"
     ]
    },
    {
     "data": {
      "text/plain": [
       "<matplotlib.axes._subplots.AxesSubplot at 0x109bf8f28>"
      ]
     },
     "execution_count": 14,
     "metadata": {},
     "output_type": "execute_result"
    },
    {
     "data": {
      "image/png": "[encoded data removed]",
      "text/plain": [
       "<matplotlib.figure.Figure at 0x109c27710>"
      ]
     },
     "metadata": {},
     "output_type": "display_data"
    }
   ],
   "source": [
    "sns.tsplot(data=coin_frame['USD_PRICE_DIFF'], time=coin_frame['Timestamp'])"
   ]
  },
  {
   "cell_type": "code",
   "execution_count": 15,
   "metadata": {},
   "outputs": [],
   "source": [
    "coin_frame.to_pickle('./data/coins/litecoin_stationirized.df')"
   ]
  },
  {
   "cell_type": "code",
   "execution_count": 17,
   "metadata": {},
   "outputs": [
    {
     "name": "stdout",
     "output_type": "stream",
     "text": [
      "Working on the coin number ${i}\n",
      "Working on the coin number ${i}\n",
      "Working on the coin number ${i}\n",
      "Working on the coin number ${i}\n",
      "Working on the coin number ${i}\n",
      "Working on the coin number ${i}\n",
      "Working on the coin number ${i}\n"
     ]
    },
    {
     "name": "stderr",
     "output_type": "stream",
     "text": [
      "/usr/local/Cellar/python3/3.6.4_2/Frameworks/Python.framework/Versions/3.6/lib/python3.6/site-packages/pandas/core/algorithms.py:1547: RuntimeWarning: invalid value encountered in subtract\n",
      "  out_arr[res_indexer] = arr[res_indexer] - arr[lag_indexer]\n"
     ]
    },
    {
     "name": "stdout",
     "output_type": "stream",
     "text": [
      "Working on the coin number ${i}\n",
      "Working on the coin number ${i}\n",
      "Working on the coin number ${i}\n",
      "Working on the coin number ${i}\n",
      "Working on the coin number ${i}\n",
      "Working on the coin number ${i}\n",
      "Working on the coin number ${i}\n",
      "Working on the coin number ${i}\n",
      "Working on the coin number ${i}\n"
     ]
    }
   ],
   "source": [
    "# lets do it to them all now;\n",
    "\n",
    "import os\n",
    "\n",
    "base_path = './data/coins/'\n",
    "\n",
    "for root, dirs, files in os.walk(base_path):\n",
    "    for i, filename in enumerate(files):\n",
    "        if i % 10 ==0: print(\"Working on the coin number \"+i)\n",
    "        coin_frame = pd.read_pickle(base_path+filename)\n",
    "        coin_frame['USD_PRICE_LN'] = coin_frame['CC_USD_PRICE'].apply(np.log)\n",
    "        coin_frame['USD_PRICE_LN_DIFF'] = coin_frame.USD_PRICE_LN.diff()\n",
    "        coin_frame.to_pickle(base_path+filename[:-3]+'_stationarized.df')\n",
    "        \n",
    "        "
   ]
  },
  {
   "cell_type": "code",
   "execution_count": null,
   "metadata": {},
   "outputs": [],
   "source": []
  }
 ],
 "metadata": {
  "kernelspec": {
   "display_name": "Python 3",
   "language": "python",
   "name": "python3"
  },
  "language_info": {
   "codemirror_mode": {
    "name": "ipython",
    "version": 3
   },
   "file_extension": ".py",
   "mimetype": "text/x-python",
   "name": "python",
   "nbconvert_exporter": "python",
   "pygments_lexer": "ipython3",
   "version": "3.6.4"
  }
 },
 "nbformat": 4,
 "nbformat_minor": 2
}
