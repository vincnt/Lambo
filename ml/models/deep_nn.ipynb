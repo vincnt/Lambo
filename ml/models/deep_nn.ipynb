{
 "cells": [
  {
   "cell_type": "code",
   "execution_count": 1,
   "metadata": {},
   "outputs": [
    {
     "name": "stderr",
     "output_type": "stream",
     "text": [
      "Using TensorFlow backend.\n"
     ]
    }
   ],
   "source": [
    "import keras as k, pandas as pd, pickle\n",
    "from sklearn.preprocessing import MinMaxScaler"
   ]
  },
  {
   "cell_type": "code",
   "execution_count": 2,
   "metadata": {},
   "outputs": [],
   "source": [
    "df = pd.read_pickle('../price_data.pickle','gzip')"
   ]
  },
  {
   "cell_type": "code",
   "execution_count": 3,
   "metadata": {},
   "outputs": [
    {
     "data": {
      "text/html": [
       "<div>\n",
       "<style scoped>\n",
       "    .dataframe tbody tr th:only-of-type {\n",
       "        vertical-align: middle;\n",
       "    }\n",
       "\n",
       "    .dataframe tbody tr th {\n",
       "        vertical-align: top;\n",
       "    }\n",
       "\n",
       "    .dataframe thead th {\n",
       "        text-align: right;\n",
       "    }\n",
       "</style>\n",
       "<table border=\"1\" class=\"dataframe\">\n",
       "  <thead>\n",
       "    <tr style=\"text-align: right;\">\n",
       "      <th></th>\n",
       "      <th>CC_USD_PRICE</th>\n",
       "      <th>CC_symbol</th>\n",
       "      <th>CMC_ID</th>\n",
       "      <th>Timestamp</th>\n",
       "    </tr>\n",
       "  </thead>\n",
       "  <tbody>\n",
       "    <tr>\n",
       "      <th>112</th>\n",
       "      <td>7923.65</td>\n",
       "      <td>BTC</td>\n",
       "      <td>bitcoin</td>\n",
       "      <td>2018-02-02 12:32:36+00:00</td>\n",
       "    </tr>\n",
       "    <tr>\n",
       "      <th>258</th>\n",
       "      <td>7857.68</td>\n",
       "      <td>BTC</td>\n",
       "      <td>bitcoin</td>\n",
       "      <td>2018-02-02 12:42:02+00:00</td>\n",
       "    </tr>\n",
       "    <tr>\n",
       "      <th>538</th>\n",
       "      <td>7826.45</td>\n",
       "      <td>BTC</td>\n",
       "      <td>bitcoin</td>\n",
       "      <td>2018-02-02 12:44:41+00:00</td>\n",
       "    </tr>\n",
       "    <tr>\n",
       "      <th>698</th>\n",
       "      <td>8215.92</td>\n",
       "      <td>BTC</td>\n",
       "      <td>bitcoin</td>\n",
       "      <td>2018-02-02 12:56:36+00:00</td>\n",
       "    </tr>\n",
       "    <tr>\n",
       "      <th>814</th>\n",
       "      <td>8300.04</td>\n",
       "      <td>BTC</td>\n",
       "      <td>bitcoin</td>\n",
       "      <td>2018-02-02 13:00:22+00:00</td>\n",
       "    </tr>\n",
       "  </tbody>\n",
       "</table>\n",
       "</div>"
      ],
      "text/plain": [
       "     CC_USD_PRICE CC_symbol   CMC_ID                 Timestamp\n",
       "112       7923.65       BTC  bitcoin 2018-02-02 12:32:36+00:00\n",
       "258       7857.68       BTC  bitcoin 2018-02-02 12:42:02+00:00\n",
       "538       7826.45       BTC  bitcoin 2018-02-02 12:44:41+00:00\n",
       "698       8215.92       BTC  bitcoin 2018-02-02 12:56:36+00:00\n",
       "814       8300.04       BTC  bitcoin 2018-02-02 13:00:22+00:00"
      ]
     },
     "execution_count": 3,
     "metadata": {},
     "output_type": "execute_result"
    }
   ],
   "source": [
    "btc = df[df['CC_symbol'] == 'BTC']\n",
    "btc.sort_values('Timestamp')\n",
    "btc.head()\n"
   ]
  },
  {
   "cell_type": "code",
   "execution_count": 4,
   "metadata": {
    "scrolled": true
   },
   "outputs": [
    {
     "name": "stderr",
     "output_type": "stream",
     "text": [
      "/usr/local/lib/python3.6/site-packages/ipykernel_launcher.py:4: SettingWithCopyWarning: \n",
      "A value is trying to be set on a copy of a slice from a DataFrame.\n",
      "Try using .loc[row_indexer,col_indexer] = value instead\n",
      "\n",
      "See the caveats in the documentation: http://pandas.pydata.org/pandas-docs/stable/indexing.html#indexing-view-versus-copy\n",
      "  after removing the cwd from sys.path.\n"
     ]
    },
    {
     "data": {
      "text/html": [
       "<div>\n",
       "<style scoped>\n",
       "    .dataframe tbody tr th:only-of-type {\n",
       "        vertical-align: middle;\n",
       "    }\n",
       "\n",
       "    .dataframe tbody tr th {\n",
       "        vertical-align: top;\n",
       "    }\n",
       "\n",
       "    .dataframe thead th {\n",
       "        text-align: right;\n",
       "    }\n",
       "</style>\n",
       "<table border=\"1\" class=\"dataframe\">\n",
       "  <thead>\n",
       "    <tr style=\"text-align: right;\">\n",
       "      <th></th>\n",
       "      <th>CC_USD_PRICE</th>\n",
       "      <th>CC_symbol</th>\n",
       "      <th>CMC_ID</th>\n",
       "      <th>Timestamp</th>\n",
       "      <th>CC_USD_PRICE-1</th>\n",
       "      <th>CC_USD_PRICE-2</th>\n",
       "      <th>CC_USD_PRICE-3</th>\n",
       "      <th>CC_USD_PRICE-4</th>\n",
       "      <th>CC_USD_PRICE-5</th>\n",
       "      <th>CC_USD_PRICE-6</th>\n",
       "    </tr>\n",
       "  </thead>\n",
       "  <tbody>\n",
       "    <tr>\n",
       "      <th>112</th>\n",
       "      <td>7923.65</td>\n",
       "      <td>BTC</td>\n",
       "      <td>bitcoin</td>\n",
       "      <td>2018-02-02 12:32:36+00:00</td>\n",
       "      <td>7857.68</td>\n",
       "      <td>7826.45</td>\n",
       "      <td>8215.92</td>\n",
       "      <td>8300.04</td>\n",
       "      <td>8434.37</td>\n",
       "      <td>8607.99</td>\n",
       "    </tr>\n",
       "    <tr>\n",
       "      <th>258</th>\n",
       "      <td>7857.68</td>\n",
       "      <td>BTC</td>\n",
       "      <td>bitcoin</td>\n",
       "      <td>2018-02-02 12:42:02+00:00</td>\n",
       "      <td>7826.45</td>\n",
       "      <td>8215.92</td>\n",
       "      <td>8300.04</td>\n",
       "      <td>8434.37</td>\n",
       "      <td>8607.99</td>\n",
       "      <td>8496.27</td>\n",
       "    </tr>\n",
       "    <tr>\n",
       "      <th>538</th>\n",
       "      <td>7826.45</td>\n",
       "      <td>BTC</td>\n",
       "      <td>bitcoin</td>\n",
       "      <td>2018-02-02 12:44:41+00:00</td>\n",
       "      <td>8215.92</td>\n",
       "      <td>8300.04</td>\n",
       "      <td>8434.37</td>\n",
       "      <td>8607.99</td>\n",
       "      <td>8496.27</td>\n",
       "      <td>8405.70</td>\n",
       "    </tr>\n",
       "    <tr>\n",
       "      <th>698</th>\n",
       "      <td>8215.92</td>\n",
       "      <td>BTC</td>\n",
       "      <td>bitcoin</td>\n",
       "      <td>2018-02-02 12:56:36+00:00</td>\n",
       "      <td>8300.04</td>\n",
       "      <td>8434.37</td>\n",
       "      <td>8607.99</td>\n",
       "      <td>8496.27</td>\n",
       "      <td>8405.70</td>\n",
       "      <td>8520.58</td>\n",
       "    </tr>\n",
       "    <tr>\n",
       "      <th>814</th>\n",
       "      <td>8300.04</td>\n",
       "      <td>BTC</td>\n",
       "      <td>bitcoin</td>\n",
       "      <td>2018-02-02 13:00:22+00:00</td>\n",
       "      <td>8434.37</td>\n",
       "      <td>8607.99</td>\n",
       "      <td>8496.27</td>\n",
       "      <td>8405.70</td>\n",
       "      <td>8520.58</td>\n",
       "      <td>8661.18</td>\n",
       "    </tr>\n",
       "  </tbody>\n",
       "</table>\n",
       "</div>"
      ],
      "text/plain": [
       "     CC_USD_PRICE CC_symbol   CMC_ID                 Timestamp  \\\n",
       "112       7923.65       BTC  bitcoin 2018-02-02 12:32:36+00:00   \n",
       "258       7857.68       BTC  bitcoin 2018-02-02 12:42:02+00:00   \n",
       "538       7826.45       BTC  bitcoin 2018-02-02 12:44:41+00:00   \n",
       "698       8215.92       BTC  bitcoin 2018-02-02 12:56:36+00:00   \n",
       "814       8300.04       BTC  bitcoin 2018-02-02 13:00:22+00:00   \n",
       "\n",
       "     CC_USD_PRICE-1  CC_USD_PRICE-2  CC_USD_PRICE-3  CC_USD_PRICE-4  \\\n",
       "112         7857.68         7826.45         8215.92         8300.04   \n",
       "258         7826.45         8215.92         8300.04         8434.37   \n",
       "538         8215.92         8300.04         8434.37         8607.99   \n",
       "698         8300.04         8434.37         8607.99         8496.27   \n",
       "814         8434.37         8607.99         8496.27         8405.70   \n",
       "\n",
       "     CC_USD_PRICE-5  CC_USD_PRICE-6  \n",
       "112         8434.37         8607.99  \n",
       "258         8607.99         8496.27  \n",
       "538         8496.27         8405.70  \n",
       "698         8405.70         8520.58  \n",
       "814         8520.58         8661.18  "
      ]
     },
     "execution_count": 4,
     "metadata": {},
     "output_type": "execute_result"
    }
   ],
   "source": [
    "WINDOW = 6\n",
    "def look_back(df, window:int, var_name:str):\n",
    "    for i in range(window):\n",
    "        df[var_name+'-'+str(i+1)] = df[var_name].shift(-(i+1))\n",
    "    return df\n",
    "\n",
    "btc = look_back(btc,WINDOW, 'CC_USD_PRICE')\n",
    "btc.dropna()\n",
    "btc.head()"
   ]
  },
  {
   "cell_type": "code",
   "execution_count": 18,
   "metadata": {},
   "outputs": [],
   "source": [
    "import numpy as np\n",
    "arr = btc.values\n",
    "\n",
    "def get_dataset(data, window):\n",
    "    train = np.array([[x[0], *x[-window:] ] for x in data])\n",
    "    train = train[~np.isnan(train).any(axis=1)]\n",
    "    train_x = train[:,:window]\n",
    "    train_y = train[:,window]\n",
    "    return train_x, train_y\n",
    "\n",
    "train_x, train_y = get_dataset(arr, WINDOW)"
   ]
  },
  {
   "cell_type": "code",
   "execution_count": 19,
   "metadata": {},
   "outputs": [],
   "source": [
    "scaler = MinMaxScaler()\n",
    "train_x = scaler.fit_transform(train_x)\n"
   ]
  },
  {
   "cell_type": "code",
   "execution_count": 20,
   "metadata": {},
   "outputs": [],
   "source": [
    "# reshape input to be [samples, time steps, features]\n",
    "train_x = np.reshape(train_x, (train_x.shape[0], 1, train_x.shape[1]))\n"
   ]
  },
  {
   "cell_type": "code",
   "execution_count": 37,
   "metadata": {},
   "outputs": [
    {
     "data": {
      "text/plain": [
       "array([[[ 7923.65,  7857.68]],\n",
       "\n",
       "       [[ 7857.68,  7826.45]],\n",
       "\n",
       "       [[ 7826.45,  8215.92]],\n",
       "\n",
       "       ...,\n",
       "\n",
       "       [[10004.04,  9973.24]],\n",
       "\n",
       "       [[ 9973.24,  9954.16]],\n",
       "\n",
       "       [[ 9954.16,  9959.71]]])"
      ]
     },
     "execution_count": 37,
     "metadata": {},
     "output_type": "execute_result"
    }
   ],
   "source": [
    "train_x"
   ]
  },
  {
   "cell_type": "code",
   "execution_count": 21,
   "metadata": {},
   "outputs": [
    {
     "name": "stdout",
     "output_type": "stream",
     "text": [
      "Epoch 1/50\n",
      " - 11s - loss: 73174386.8462 - mean_absolute_error: 8515.4265 - acc: 0.0000e+00\n",
      "Epoch 2/50\n",
      " - 10s - loss: 72885692.3692 - mean_absolute_error: 8498.4460 - acc: 0.0000e+00\n",
      "Epoch 3/50\n",
      " - 10s - loss: 72605947.3330 - mean_absolute_error: 8481.9649 - acc: 0.0000e+00\n",
      "Epoch 4/50\n",
      " - 10s - loss: 72327317.5965 - mean_absolute_error: 8465.5168 - acc: 0.0000e+00\n",
      "Epoch 5/50\n",
      " - 10s - loss: 72049241.0754 - mean_absolute_error: 8449.0761 - acc: 0.0000e+00\n",
      "Epoch 6/50\n",
      " - 10s - loss: 71771622.3967 - mean_absolute_error: 8432.6338 - acc: 0.0000e+00\n",
      "Epoch 7/50\n",
      " - 10s - loss: 71494658.1665 - mean_absolute_error: 8416.1910 - acc: 0.0000e+00\n",
      "Epoch 8/50\n",
      " - 12s - loss: 71218117.8697 - mean_absolute_error: 8399.7506 - acc: 0.0000e+00\n",
      "Epoch 9/50\n",
      " - 13s - loss: 70942105.9461 - mean_absolute_error: 8383.3135 - acc: 0.0000e+00\n",
      "Epoch 10/50\n",
      " - 12s - loss: 70666878.3555 - mean_absolute_error: 8366.8708 - acc: 0.0000e+00\n",
      "Epoch 11/50\n",
      " - 13s - loss: 70391986.9726 - mean_absolute_error: 8350.4303 - acc: 0.0000e+00\n",
      "Epoch 12/50\n",
      " - 14s - loss: 70117865.9030 - mean_absolute_error: 8333.9888 - acc: 0.0000e+00\n",
      "Epoch 13/50\n",
      " - 13s - loss: 69844163.3359 - mean_absolute_error: 8317.5531 - acc: 0.0000e+00\n",
      "Epoch 14/50\n",
      " - 12s - loss: 69570917.3869 - mean_absolute_error: 8301.1128 - acc: 0.0000e+00\n",
      "Epoch 15/50\n",
      " - 11s - loss: 69298264.4177 - mean_absolute_error: 8284.6771 - acc: 0.0000e+00\n",
      "Epoch 16/50\n",
      " - 12s - loss: 69026168.5289 - mean_absolute_error: 8268.2367 - acc: 0.0000e+00\n",
      "Epoch 17/50\n",
      " - 12s - loss: 68754618.1949 - mean_absolute_error: 8251.8007 - acc: 0.0000e+00\n",
      "Epoch 18/50\n",
      " - 10s - loss: 68483584.9265 - mean_absolute_error: 8235.3614 - acc: 0.0000e+00\n",
      "Epoch 19/50\n",
      " - 10s - loss: 68213177.7042 - mean_absolute_error: 8218.9244 - acc: 0.0000e+00\n",
      "Epoch 20/50\n",
      " - 11s - loss: 67943181.4055 - mean_absolute_error: 8202.4911 - acc: 0.0000e+00\n",
      "Epoch 21/50\n",
      " - 10s - loss: 67673636.0255 - mean_absolute_error: 8186.0545 - acc: 0.0000e+00\n",
      "Epoch 22/50\n",
      " - 11s - loss: 67404998.2140 - mean_absolute_error: 8169.6124 - acc: 0.0000e+00\n",
      "Epoch 23/50\n",
      " - 12s - loss: 67136670.3712 - mean_absolute_error: 8153.1791 - acc: 0.0000e+00\n",
      "Epoch 24/50\n",
      " - 11s - loss: 66868868.1758 - mean_absolute_error: 8136.7451 - acc: 0.0000e+00\n",
      "Epoch 25/50\n",
      " - 11s - loss: 66601722.3967 - mean_absolute_error: 8120.3089 - acc: 0.0000e+00\n",
      "Epoch 26/50\n",
      " - 10s - loss: 66335072.5818 - mean_absolute_error: 8103.8740 - acc: 0.0000e+00\n",
      "Epoch 27/50\n",
      " - 10s - loss: 66068877.1596 - mean_absolute_error: 8087.4371 - acc: 0.0000e+00\n",
      "Epoch 28/50\n",
      " - 10s - loss: 65803558.8653 - mean_absolute_error: 8071.0024 - acc: 0.0000e+00\n",
      "Epoch 29/50\n",
      " - 10s - loss: 65538557.9941 - mean_absolute_error: 8054.5723 - acc: 0.0000e+00\n",
      "Epoch 30/50\n",
      " - 10s - loss: 65273900.7424 - mean_absolute_error: 8038.1414 - acc: 0.0000e+00\n",
      "Epoch 31/50\n",
      " - 10s - loss: 65010007.2483 - mean_absolute_error: 8021.6997 - acc: 0.0000e+00\n",
      "Epoch 32/50\n",
      " - 10s - loss: 64746735.8766 - mean_absolute_error: 8005.2708 - acc: 0.0000e+00\n",
      "Epoch 33/50\n",
      " - 10s - loss: 64483882.4172 - mean_absolute_error: 7988.8376 - acc: 0.0000e+00\n",
      "Epoch 34/50\n",
      " - 10s - loss: 64221545.1004 - mean_absolute_error: 7972.4056 - acc: 0.0000e+00\n",
      "Epoch 35/50\n",
      " - 10s - loss: 63959895.7796 - mean_absolute_error: 7955.9702 - acc: 0.0000e+00\n",
      "Epoch 36/50\n",
      " - 10s - loss: 63698756.4907 - mean_absolute_error: 7939.5384 - acc: 0.0000e+00\n",
      "Epoch 37/50\n",
      " - 10s - loss: 63437893.4246 - mean_absolute_error: 7923.1141 - acc: 0.0000e+00\n",
      "Epoch 38/50\n",
      " - 11s - loss: 63177959.1474 - mean_absolute_error: 7906.6754 - acc: 0.0000e+00\n",
      "Epoch 39/50\n",
      " - 10s - loss: 62918492.0622 - mean_absolute_error: 7890.2491 - acc: 0.0000e+00\n",
      "Epoch 40/50\n",
      " - 10s - loss: 62659393.8105 - mean_absolute_error: 7873.8235 - acc: 0.0000e+00\n",
      "Epoch 41/50\n",
      " - 10s - loss: 62400950.5500 - mean_absolute_error: 7857.3880 - acc: 0.0000e+00\n",
      "Epoch 42/50\n",
      " - 10s - loss: 62142993.3222 - mean_absolute_error: 7840.9662 - acc: 0.0000e+00\n",
      "Epoch 43/50\n",
      " - 10s - loss: 61885686.5088 - mean_absolute_error: 7824.5326 - acc: 0.0000e+00\n",
      "Epoch 44/50\n",
      " - 10s - loss: 61628909.0171 - mean_absolute_error: 7808.1098 - acc: 0.0000e+00\n",
      "Epoch 45/50\n",
      " - 10s - loss: 61372535.2591 - mean_absolute_error: 7791.6813 - acc: 0.0000e+00\n",
      "Epoch 46/50\n",
      " - 10s - loss: 61116975.6709 - mean_absolute_error: 7775.2535 - acc: 0.0000e+00\n",
      "Epoch 47/50\n",
      " - 10s - loss: 60861811.0930 - mean_absolute_error: 7758.8286 - acc: 0.0000e+00\n",
      "Epoch 48/50\n",
      " - 10s - loss: 60607228.0196 - mean_absolute_error: 7742.3999 - acc: 0.0000e+00\n",
      "Epoch 49/50\n",
      " - 11s - loss: 60353077.2635 - mean_absolute_error: 7725.9747 - acc: 0.0000e+00\n",
      "Epoch 50/50\n",
      " - 11s - loss: 60099422.9035 - mean_absolute_error: 7709.5474 - acc: 0.0000e+00\n"
     ]
    }
   ],
   "source": [
    "model = k.models.Sequential()\n",
    "model.add(k.layers.LSTM(4, input_shape=(1, WINDOW)))\n",
    "model.add(k.layers.Dense(1))\n",
    "model.compile(loss='mean_squared_error', optimizer='adam',metrics=['mae', 'acc'])\n",
    "history = model.fit(train_x, train_y, epochs=50, batch_size=1, verbose=2)"
   ]
  },
  {
   "cell_type": "code",
   "execution_count": 22,
   "metadata": {},
   "outputs": [],
   "source": [
    "history = history.history"
   ]
  },
  {
   "cell_type": "code",
   "execution_count": 24,
   "metadata": {},
   "outputs": [
    {
     "data": {
      "text/plain": [
       "[<matplotlib.lines.Line2D at 0x11b36bef0>]"
      ]
     },
     "execution_count": 24,
     "metadata": {},
     "output_type": "execute_result"
    },
    {
     "data": {
      "image/png": "[encoded data removed]",
      "text/plain": [
       "<matplotlib.figure.Figure at 0x11a325438>"
      ]
     },
     "metadata": {},
     "output_type": "display_data"
    }
   ],
   "source": [
    "import matplotlib.pyplot as plt\n",
    "%matplotlib inline\n",
    "plt.plot(history['loss'])"
   ]
  },
  {
   "cell_type": "code",
   "execution_count": null,
   "metadata": {},
   "outputs": [],
   "source": []
  }
 ],
 "metadata": {
  "kernelspec": {
   "display_name": "Python 3",
   "language": "python",
   "name": "python3"
  },
  "language_info": {
   "codemirror_mode": {
    "name": "ipython",
    "version": 3
   },
   "file_extension": ".py",
   "mimetype": "text/x-python",
   "name": "python",
   "nbconvert_exporter": "python",
   "pygments_lexer": "ipython3",
   "version": "3.6.4"
  }
 },
 "nbformat": 4,
 "nbformat_minor": 2
}
